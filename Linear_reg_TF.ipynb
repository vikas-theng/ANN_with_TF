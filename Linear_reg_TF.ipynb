{
  "nbformat": 4,
  "nbformat_minor": 0,
  "metadata": {
    "colab": {
      "name": "Untitled8.ipynb",
      "provenance": [],
      "collapsed_sections": []
    },
    "kernelspec": {
      "name": "python3",
      "display_name": "Python 3"
    },
    "accelerator": "GPU"
  },
  "cells": [
    {
      "cell_type": "code",
      "metadata": {
        "id": "UBeEVBfiLr57"
      },
      "source": [
        ""
      ],
      "execution_count": null,
      "outputs": []
    },
    {
      "cell_type": "code",
      "metadata": {
        "id": "BP_JIcO6Ltv2"
      },
      "source": [
        "#importing important libraries\n",
        "import tensorflow as tf\n",
        "import numpy as np\n",
        "import pandas as pd\n",
        "import matplotlib.pyplot as plt\n"
      ],
      "execution_count": 6,
      "outputs": []
    },
    {
      "cell_type": "code",
      "metadata": {
        "colab": {
          "base_uri": "https://localhost:8080/",
          "height": 442
        },
        "id": "u2qyw64FLty1",
        "outputId": "086c4bca-a77d-4a2c-9d9c-b916aad4e82b"
      },
      "source": [
        "#loading the dataset to pandas dataframe\n",
        "data = 'graduate_admission.csv'\n",
        "df = pd.read_csv(data)\n",
        "\n",
        "#printing top 5 rows\n",
        "df.head()"
      ],
      "execution_count": 49,
      "outputs": [
        {
          "output_type": "error",
          "ename": "FileNotFoundError",
          "evalue": "ignored",
          "traceback": [
            "\u001b[0;31m---------------------------------------------------------------------------\u001b[0m",
            "\u001b[0;31mFileNotFoundError\u001b[0m                         Traceback (most recent call last)",
            "\u001b[0;32m<ipython-input-49-ac50083f3971>\u001b[0m in \u001b[0;36m<module>\u001b[0;34m()\u001b[0m\n\u001b[1;32m      1\u001b[0m \u001b[0;31m#loading the dataset to pandas dataframe\u001b[0m\u001b[0;34m\u001b[0m\u001b[0;34m\u001b[0m\u001b[0;34m\u001b[0m\u001b[0m\n\u001b[1;32m      2\u001b[0m \u001b[0mdata\u001b[0m \u001b[0;34m=\u001b[0m \u001b[0;34m'graduate_admission.csv'\u001b[0m\u001b[0;34m\u001b[0m\u001b[0;34m\u001b[0m\u001b[0m\n\u001b[0;32m----> 3\u001b[0;31m \u001b[0mdf\u001b[0m \u001b[0;34m=\u001b[0m \u001b[0mpd\u001b[0m\u001b[0;34m.\u001b[0m\u001b[0mread_csv\u001b[0m\u001b[0;34m(\u001b[0m\u001b[0mdata\u001b[0m\u001b[0;34m)\u001b[0m\u001b[0;34m\u001b[0m\u001b[0;34m\u001b[0m\u001b[0m\n\u001b[0m\u001b[1;32m      4\u001b[0m \u001b[0;34m\u001b[0m\u001b[0m\n\u001b[1;32m      5\u001b[0m \u001b[0;31m#printing top 5 rows\u001b[0m\u001b[0;34m\u001b[0m\u001b[0;34m\u001b[0m\u001b[0;34m\u001b[0m\u001b[0m\n",
            "\u001b[0;32m/usr/local/lib/python3.7/dist-packages/pandas/io/parsers.py\u001b[0m in \u001b[0;36mread_csv\u001b[0;34m(filepath_or_buffer, sep, delimiter, header, names, index_col, usecols, squeeze, prefix, mangle_dupe_cols, dtype, engine, converters, true_values, false_values, skipinitialspace, skiprows, skipfooter, nrows, na_values, keep_default_na, na_filter, verbose, skip_blank_lines, parse_dates, infer_datetime_format, keep_date_col, date_parser, dayfirst, cache_dates, iterator, chunksize, compression, thousands, decimal, lineterminator, quotechar, quoting, doublequote, escapechar, comment, encoding, dialect, error_bad_lines, warn_bad_lines, delim_whitespace, low_memory, memory_map, float_precision)\u001b[0m\n\u001b[1;32m    686\u001b[0m     )\n\u001b[1;32m    687\u001b[0m \u001b[0;34m\u001b[0m\u001b[0m\n\u001b[0;32m--> 688\u001b[0;31m     \u001b[0;32mreturn\u001b[0m \u001b[0m_read\u001b[0m\u001b[0;34m(\u001b[0m\u001b[0mfilepath_or_buffer\u001b[0m\u001b[0;34m,\u001b[0m \u001b[0mkwds\u001b[0m\u001b[0;34m)\u001b[0m\u001b[0;34m\u001b[0m\u001b[0;34m\u001b[0m\u001b[0m\n\u001b[0m\u001b[1;32m    689\u001b[0m \u001b[0;34m\u001b[0m\u001b[0m\n\u001b[1;32m    690\u001b[0m \u001b[0;34m\u001b[0m\u001b[0m\n",
            "\u001b[0;32m/usr/local/lib/python3.7/dist-packages/pandas/io/parsers.py\u001b[0m in \u001b[0;36m_read\u001b[0;34m(filepath_or_buffer, kwds)\u001b[0m\n\u001b[1;32m    452\u001b[0m \u001b[0;34m\u001b[0m\u001b[0m\n\u001b[1;32m    453\u001b[0m     \u001b[0;31m# Create the parser.\u001b[0m\u001b[0;34m\u001b[0m\u001b[0;34m\u001b[0m\u001b[0;34m\u001b[0m\u001b[0m\n\u001b[0;32m--> 454\u001b[0;31m     \u001b[0mparser\u001b[0m \u001b[0;34m=\u001b[0m \u001b[0mTextFileReader\u001b[0m\u001b[0;34m(\u001b[0m\u001b[0mfp_or_buf\u001b[0m\u001b[0;34m,\u001b[0m \u001b[0;34m**\u001b[0m\u001b[0mkwds\u001b[0m\u001b[0;34m)\u001b[0m\u001b[0;34m\u001b[0m\u001b[0;34m\u001b[0m\u001b[0m\n\u001b[0m\u001b[1;32m    455\u001b[0m \u001b[0;34m\u001b[0m\u001b[0m\n\u001b[1;32m    456\u001b[0m     \u001b[0;32mif\u001b[0m \u001b[0mchunksize\u001b[0m \u001b[0;32mor\u001b[0m \u001b[0miterator\u001b[0m\u001b[0;34m:\u001b[0m\u001b[0;34m\u001b[0m\u001b[0;34m\u001b[0m\u001b[0m\n",
            "\u001b[0;32m/usr/local/lib/python3.7/dist-packages/pandas/io/parsers.py\u001b[0m in \u001b[0;36m__init__\u001b[0;34m(self, f, engine, **kwds)\u001b[0m\n\u001b[1;32m    946\u001b[0m             \u001b[0mself\u001b[0m\u001b[0;34m.\u001b[0m\u001b[0moptions\u001b[0m\u001b[0;34m[\u001b[0m\u001b[0;34m\"has_index_names\"\u001b[0m\u001b[0;34m]\u001b[0m \u001b[0;34m=\u001b[0m \u001b[0mkwds\u001b[0m\u001b[0;34m[\u001b[0m\u001b[0;34m\"has_index_names\"\u001b[0m\u001b[0;34m]\u001b[0m\u001b[0;34m\u001b[0m\u001b[0;34m\u001b[0m\u001b[0m\n\u001b[1;32m    947\u001b[0m \u001b[0;34m\u001b[0m\u001b[0m\n\u001b[0;32m--> 948\u001b[0;31m         \u001b[0mself\u001b[0m\u001b[0;34m.\u001b[0m\u001b[0m_make_engine\u001b[0m\u001b[0;34m(\u001b[0m\u001b[0mself\u001b[0m\u001b[0;34m.\u001b[0m\u001b[0mengine\u001b[0m\u001b[0;34m)\u001b[0m\u001b[0;34m\u001b[0m\u001b[0;34m\u001b[0m\u001b[0m\n\u001b[0m\u001b[1;32m    949\u001b[0m \u001b[0;34m\u001b[0m\u001b[0m\n\u001b[1;32m    950\u001b[0m     \u001b[0;32mdef\u001b[0m \u001b[0mclose\u001b[0m\u001b[0;34m(\u001b[0m\u001b[0mself\u001b[0m\u001b[0;34m)\u001b[0m\u001b[0;34m:\u001b[0m\u001b[0;34m\u001b[0m\u001b[0;34m\u001b[0m\u001b[0m\n",
            "\u001b[0;32m/usr/local/lib/python3.7/dist-packages/pandas/io/parsers.py\u001b[0m in \u001b[0;36m_make_engine\u001b[0;34m(self, engine)\u001b[0m\n\u001b[1;32m   1178\u001b[0m     \u001b[0;32mdef\u001b[0m \u001b[0m_make_engine\u001b[0m\u001b[0;34m(\u001b[0m\u001b[0mself\u001b[0m\u001b[0;34m,\u001b[0m \u001b[0mengine\u001b[0m\u001b[0;34m=\u001b[0m\u001b[0;34m\"c\"\u001b[0m\u001b[0;34m)\u001b[0m\u001b[0;34m:\u001b[0m\u001b[0;34m\u001b[0m\u001b[0;34m\u001b[0m\u001b[0m\n\u001b[1;32m   1179\u001b[0m         \u001b[0;32mif\u001b[0m \u001b[0mengine\u001b[0m \u001b[0;34m==\u001b[0m \u001b[0;34m\"c\"\u001b[0m\u001b[0;34m:\u001b[0m\u001b[0;34m\u001b[0m\u001b[0;34m\u001b[0m\u001b[0m\n\u001b[0;32m-> 1180\u001b[0;31m             \u001b[0mself\u001b[0m\u001b[0;34m.\u001b[0m\u001b[0m_engine\u001b[0m \u001b[0;34m=\u001b[0m \u001b[0mCParserWrapper\u001b[0m\u001b[0;34m(\u001b[0m\u001b[0mself\u001b[0m\u001b[0;34m.\u001b[0m\u001b[0mf\u001b[0m\u001b[0;34m,\u001b[0m \u001b[0;34m**\u001b[0m\u001b[0mself\u001b[0m\u001b[0;34m.\u001b[0m\u001b[0moptions\u001b[0m\u001b[0;34m)\u001b[0m\u001b[0;34m\u001b[0m\u001b[0;34m\u001b[0m\u001b[0m\n\u001b[0m\u001b[1;32m   1181\u001b[0m         \u001b[0;32melse\u001b[0m\u001b[0;34m:\u001b[0m\u001b[0;34m\u001b[0m\u001b[0;34m\u001b[0m\u001b[0m\n\u001b[1;32m   1182\u001b[0m             \u001b[0;32mif\u001b[0m \u001b[0mengine\u001b[0m \u001b[0;34m==\u001b[0m \u001b[0;34m\"python\"\u001b[0m\u001b[0;34m:\u001b[0m\u001b[0;34m\u001b[0m\u001b[0;34m\u001b[0m\u001b[0m\n",
            "\u001b[0;32m/usr/local/lib/python3.7/dist-packages/pandas/io/parsers.py\u001b[0m in \u001b[0;36m__init__\u001b[0;34m(self, src, **kwds)\u001b[0m\n\u001b[1;32m   2008\u001b[0m         \u001b[0mkwds\u001b[0m\u001b[0;34m[\u001b[0m\u001b[0;34m\"usecols\"\u001b[0m\u001b[0;34m]\u001b[0m \u001b[0;34m=\u001b[0m \u001b[0mself\u001b[0m\u001b[0;34m.\u001b[0m\u001b[0musecols\u001b[0m\u001b[0;34m\u001b[0m\u001b[0;34m\u001b[0m\u001b[0m\n\u001b[1;32m   2009\u001b[0m \u001b[0;34m\u001b[0m\u001b[0m\n\u001b[0;32m-> 2010\u001b[0;31m         \u001b[0mself\u001b[0m\u001b[0;34m.\u001b[0m\u001b[0m_reader\u001b[0m \u001b[0;34m=\u001b[0m \u001b[0mparsers\u001b[0m\u001b[0;34m.\u001b[0m\u001b[0mTextReader\u001b[0m\u001b[0;34m(\u001b[0m\u001b[0msrc\u001b[0m\u001b[0;34m,\u001b[0m \u001b[0;34m**\u001b[0m\u001b[0mkwds\u001b[0m\u001b[0;34m)\u001b[0m\u001b[0;34m\u001b[0m\u001b[0;34m\u001b[0m\u001b[0m\n\u001b[0m\u001b[1;32m   2011\u001b[0m         \u001b[0mself\u001b[0m\u001b[0;34m.\u001b[0m\u001b[0munnamed_cols\u001b[0m \u001b[0;34m=\u001b[0m \u001b[0mself\u001b[0m\u001b[0;34m.\u001b[0m\u001b[0m_reader\u001b[0m\u001b[0;34m.\u001b[0m\u001b[0munnamed_cols\u001b[0m\u001b[0;34m\u001b[0m\u001b[0;34m\u001b[0m\u001b[0m\n\u001b[1;32m   2012\u001b[0m \u001b[0;34m\u001b[0m\u001b[0m\n",
            "\u001b[0;32mpandas/_libs/parsers.pyx\u001b[0m in \u001b[0;36mpandas._libs.parsers.TextReader.__cinit__\u001b[0;34m()\u001b[0m\n",
            "\u001b[0;32mpandas/_libs/parsers.pyx\u001b[0m in \u001b[0;36mpandas._libs.parsers.TextReader._setup_parser_source\u001b[0;34m()\u001b[0m\n",
            "\u001b[0;31mFileNotFoundError\u001b[0m: [Errno 2] No such file or directory: 'graduate_admission.csv'"
          ]
        }
      ]
    },
    {
      "cell_type": "code",
      "metadata": {
        "colab": {
          "base_uri": "https://localhost:8080/"
        },
        "id": "ktQEMj4GLt3g",
        "outputId": "2575dd15-01d3-456c-df30-e41a39482168"
      },
      "source": [
        "# Basic information of the dataset\n",
        "df.info()"
      ],
      "execution_count": 8,
      "outputs": [
        {
          "output_type": "stream",
          "text": [
            "<class 'pandas.core.frame.DataFrame'>\n",
            "RangeIndex: 400 entries, 0 to 399\n",
            "Data columns (total 9 columns):\n",
            " #   Column      Non-Null Count  Dtype  \n",
            "---  ------      --------------  -----  \n",
            " 0   index       400 non-null    int64  \n",
            " 1   gre         400 non-null    int64  \n",
            " 2   toefl       400 non-null    int64  \n",
            " 3   uni_rating  400 non-null    int64  \n",
            " 4   sop         400 non-null    float64\n",
            " 5   lor         400 non-null    float64\n",
            " 6   cgpa        400 non-null    float64\n",
            " 7   research    400 non-null    int64  \n",
            " 8   admit       400 non-null    float64\n",
            "dtypes: float64(4), int64(5)\n",
            "memory usage: 28.2 KB\n"
          ],
          "name": "stdout"
        }
      ]
    },
    {
      "cell_type": "code",
      "metadata": {
        "id": "zJuEAuwtLt76"
      },
      "source": [
        "#target \n",
        "target = 'admit'\n",
        "\n"
      ],
      "execution_count": 9,
      "outputs": []
    },
    {
      "cell_type": "code",
      "metadata": {
        "id": "XDciE2lyLuAM"
      },
      "source": [
        "# Seperating data into Training and Validation Data\n",
        "training_df = df.sample(frac=0.85, random_state=101)\n",
        "validation_df = df.drop(training_df.index)"
      ],
      "execution_count": 10,
      "outputs": []
    },
    {
      "cell_type": "code",
      "metadata": {
        "colab": {
          "base_uri": "https://localhost:8080/"
        },
        "id": "sHmtSrMeLuDx",
        "outputId": "1ddc93c4-76e7-46a7-e212-7c00cebf4bb1"
      },
      "source": [
        "print(f'[INFO] shape of training data {training_df.shape}')\n",
        "print(f'[INFO] shape of validation data {validation_df.shape}')"
      ],
      "execution_count": 11,
      "outputs": [
        {
          "output_type": "stream",
          "text": [
            "[INFO] shape of training data (340, 9)\n",
            "[INFO] shape of validation data (60, 9)\n"
          ],
          "name": "stdout"
        }
      ]
    },
    {
      "cell_type": "code",
      "metadata": {
        "id": "C--hUhtdCdBv"
      },
      "source": [
        "# Removing labels from data and converting to numpy array\n",
        "training_labels = training_df.pop(target).values\n",
        "validation_labels = validation_df.pop(target).values"
      ],
      "execution_count": 18,
      "outputs": []
    },
    {
      "cell_type": "code",
      "metadata": {
        "colab": {
          "base_uri": "https://localhost:8080/"
        },
        "id": "vaittxwzLuIm",
        "outputId": "c6494c57-df86-4fe4-edf6-4d1cedb727f4"
      },
      "source": [
        "# basic stats of the training dataset\n",
        "stats = training_df.describe().transpose()\n",
        "print(stats)"
      ],
      "execution_count": 12,
      "outputs": [
        {
          "output_type": "stream",
          "text": [
            "            count        mean         std  ...      50%     75%     max\n",
            "index       340.0  200.150000  114.640690  ...  199.500  297.25  400.00\n",
            "gre         340.0  316.561765   11.390585  ...  316.500  325.00  340.00\n",
            "toefl       340.0  107.247059    6.120050  ...  107.000  111.25  120.00\n",
            "uni_rating  340.0    3.070588    1.134477  ...    3.000    4.00    5.00\n",
            "sop         340.0    3.388235    1.017912  ...    3.500    4.00    5.00\n",
            "lor         340.0    3.451471    0.897307  ...    3.500    4.00    5.00\n",
            "cgpa        340.0    8.584794    0.605356  ...    8.565    9.08    9.92\n",
            "research    340.0    0.523529    0.500182  ...    1.000    1.00    1.00\n",
            "admit       340.0    0.722471    0.143358  ...    0.730    0.82    0.97\n",
            "\n",
            "[9 rows x 8 columns]\n"
          ],
          "name": "stdout"
        }
      ]
    },
    {
      "cell_type": "code",
      "metadata": {
        "id": "ZP8yPBoFLuL2"
      },
      "source": [
        "# scaling data w.r.t training_df\n",
        "normalization_training_df = (training_df-stats['mean'])/stats['std']\n",
        "normalization_validation_df = (validation_df-stats['mean'])/stats['std']"
      ],
      "execution_count": 13,
      "outputs": []
    },
    {
      "cell_type": "code",
      "metadata": {
        "id": "85EnUw27LuOK"
      },
      "source": [
        "# converting the data to numpy array\n",
        "training_data = normalization_training_df.to_numpy()\n",
        "validation_data = normalization_validation_df.to_numpy()"
      ],
      "execution_count": 14,
      "outputs": []
    },
    {
      "cell_type": "code",
      "metadata": {
        "colab": {
          "base_uri": "https://localhost:8080/"
        },
        "id": "hqRkO-5gLuQc",
        "outputId": "a29e97c9-fa96-4dff-b079-9a42ea0f710c"
      },
      "source": [
        "# data type\n",
        "print(f'[INFO] type of training data {type(training_data)}')\n",
        "print(f'[INFO] type of validation data {type(validation_data)}')"
      ],
      "execution_count": 15,
      "outputs": [
        {
          "output_type": "stream",
          "text": [
            "[INFO] type of training data <class 'numpy.ndarray'>\n",
            "[INFO] type of validation data <class 'numpy.ndarray'>\n"
          ],
          "name": "stdout"
        }
      ]
    },
    {
      "cell_type": "code",
      "metadata": {
        "id": "axm5RlJmCWuC"
      },
      "source": [
        ""
      ],
      "execution_count": null,
      "outputs": []
    },
    {
      "cell_type": "code",
      "metadata": {
        "id": "w2lJ7021LuXt"
      },
      "source": [
        "# prepare tf.data.Dataset for training\n",
        "def prepare_dataset(data , labels , batch, shuffle):\n",
        "  dataset = tf.data.Dataset.from_tensor_slices((data , labels))\n",
        "  dataset = dataset.shuffle(shuffle)\n",
        "  dataset = dataset.batch(batch).prefetch(1)\n",
        "  return dataset"
      ],
      "execution_count": 16,
      "outputs": []
    },
    {
      "cell_type": "code",
      "metadata": {
        "id": "z1s01eFRBit8"
      },
      "source": [
        "# preparing Dataset for training\n",
        "batch_size = 32\n",
        "buffer = 100\n",
        "training_dataset = prepare_dataset(training_data, training_labels, batch_size, buffer)\n",
        "validation_dataset = prepare_dataset(validation_data, validation_labels, batch_size, buffer)"
      ],
      "execution_count": 23,
      "outputs": []
    },
    {
      "cell_type": "code",
      "metadata": {
        "colab": {
          "base_uri": "https://localhost:8080/"
        },
        "id": "3zUdOgekCU0m",
        "outputId": "3c713105-5e2f-4fcc-c7b1-08576cbbb6b7"
      },
      "source": [
        "\n",
        "\n",
        "print(type(training_data))"
      ],
      "execution_count": 20,
      "outputs": [
        {
          "output_type": "stream",
          "text": [
            "<class 'numpy.ndarray'>\n"
          ],
          "name": "stdout"
        }
      ]
    },
    {
      "cell_type": "code",
      "metadata": {
        "id": "7nBzsDqbBix6"
      },
      "source": [
        "### building ANN model"
      ],
      "execution_count": 22,
      "outputs": []
    },
    {
      "cell_type": "code",
      "metadata": {
        "id": "cCyTvqOHBi27"
      },
      "source": [
        "model = tf.keras.Sequential([\n",
        "                             tf.keras.layers.Dense(12, activation = 'relu'),\n",
        "                              tf.keras.layers.Dense(8, activation = 'sigmoid'),\n",
        "                               tf.keras.layers.Dense(4, activation = 'relu'),\n",
        "                                tf.keras.layers.Dense(1)\n",
        "])"
      ],
      "execution_count": 39,
      "outputs": []
    },
    {
      "cell_type": "code",
      "metadata": {
        "id": "M9okhy3ABi65"
      },
      "source": [
        "model.compile(optimizer=tf.keras.optimizers.SGD(), \n",
        "              loss=tf.keras.losses.mse,\n",
        "               metrics='mae')"
      ],
      "execution_count": 40,
      "outputs": []
    },
    {
      "cell_type": "code",
      "metadata": {
        "colab": {
          "base_uri": "https://localhost:8080/"
        },
        "id": "4rouqAX9BjGX",
        "outputId": "f54bab1c-bb52-4f1f-af20-8faccdb9404d"
      },
      "source": [
        "history = model.fit(\n",
        "    training_dataset,\n",
        "    epochs=50,\n",
        "    validation_data = validation_dataset\n",
        ")"
      ],
      "execution_count": 41,
      "outputs": [
        {
          "output_type": "stream",
          "text": [
            "Epoch 1/50\n",
            "11/11 [==============================] - 0s 12ms/step - loss: 1.3933 - mae: 1.1618 - val_loss: 0.6197 - val_mae: 0.7746\n",
            "Epoch 2/50\n",
            "11/11 [==============================] - 0s 4ms/step - loss: 0.5067 - mae: 0.6956 - val_loss: 0.2953 - val_mae: 0.5261\n",
            "Epoch 3/50\n",
            "11/11 [==============================] - 0s 4ms/step - loss: 0.2331 - mae: 0.4640 - val_loss: 0.1622 - val_mae: 0.3795\n",
            "Epoch 4/50\n",
            "11/11 [==============================] - 0s 5ms/step - loss: 0.1283 - mae: 0.3313 - val_loss: 0.0976 - val_mae: 0.2828\n",
            "Epoch 5/50\n",
            "11/11 [==============================] - 0s 4ms/step - loss: 0.0773 - mae: 0.2488 - val_loss: 0.0635 - val_mae: 0.2212\n",
            "Epoch 6/50\n",
            "11/11 [==============================] - 0s 4ms/step - loss: 0.0534 - mae: 0.2003 - val_loss: 0.0449 - val_mae: 0.1797\n",
            "Epoch 7/50\n",
            "11/11 [==============================] - 0s 4ms/step - loss: 0.0362 - mae: 0.1595 - val_loss: 0.0342 - val_mae: 0.1557\n",
            "Epoch 8/50\n",
            "11/11 [==============================] - 0s 4ms/step - loss: 0.0282 - mae: 0.1393 - val_loss: 0.0280 - val_mae: 0.1398\n",
            "Epoch 9/50\n",
            "11/11 [==============================] - 0s 4ms/step - loss: 0.0235 - mae: 0.1260 - val_loss: 0.0240 - val_mae: 0.1290\n",
            "Epoch 10/50\n",
            "11/11 [==============================] - 0s 4ms/step - loss: 0.0214 - mae: 0.1194 - val_loss: 0.0217 - val_mae: 0.1224\n",
            "Epoch 11/50\n",
            "11/11 [==============================] - 0s 4ms/step - loss: 0.0201 - mae: 0.1149 - val_loss: 0.0203 - val_mae: 0.1183\n",
            "Epoch 12/50\n",
            "11/11 [==============================] - 0s 4ms/step - loss: 0.0180 - mae: 0.1078 - val_loss: 0.0194 - val_mae: 0.1157\n",
            "Epoch 13/50\n",
            "11/11 [==============================] - 0s 4ms/step - loss: 0.0189 - mae: 0.1106 - val_loss: 0.0188 - val_mae: 0.1141\n",
            "Epoch 14/50\n",
            "11/11 [==============================] - 0s 4ms/step - loss: 0.0182 - mae: 0.1071 - val_loss: 0.0185 - val_mae: 0.1133\n",
            "Epoch 15/50\n",
            "11/11 [==============================] - 0s 4ms/step - loss: 0.0185 - mae: 0.1090 - val_loss: 0.0182 - val_mae: 0.1127\n",
            "Epoch 16/50\n",
            "11/11 [==============================] - 0s 4ms/step - loss: 0.0177 - mae: 0.1056 - val_loss: 0.0180 - val_mae: 0.1122\n",
            "Epoch 17/50\n",
            "11/11 [==============================] - 0s 4ms/step - loss: 0.0183 - mae: 0.1076 - val_loss: 0.0178 - val_mae: 0.1118\n",
            "Epoch 18/50\n",
            "11/11 [==============================] - 0s 4ms/step - loss: 0.0180 - mae: 0.1059 - val_loss: 0.0177 - val_mae: 0.1115\n",
            "Epoch 19/50\n",
            "11/11 [==============================] - 0s 4ms/step - loss: 0.0180 - mae: 0.1061 - val_loss: 0.0176 - val_mae: 0.1112\n",
            "Epoch 20/50\n",
            "11/11 [==============================] - 0s 4ms/step - loss: 0.0175 - mae: 0.1035 - val_loss: 0.0175 - val_mae: 0.1109\n",
            "Epoch 21/50\n",
            "11/11 [==============================] - 0s 4ms/step - loss: 0.0173 - mae: 0.1047 - val_loss: 0.0175 - val_mae: 0.1106\n",
            "Epoch 22/50\n",
            "11/11 [==============================] - 0s 4ms/step - loss: 0.0181 - mae: 0.1050 - val_loss: 0.0174 - val_mae: 0.1104\n",
            "Epoch 23/50\n",
            "11/11 [==============================] - 0s 5ms/step - loss: 0.0183 - mae: 0.1057 - val_loss: 0.0173 - val_mae: 0.1101\n",
            "Epoch 24/50\n",
            "11/11 [==============================] - 0s 5ms/step - loss: 0.0178 - mae: 0.1055 - val_loss: 0.0173 - val_mae: 0.1099\n",
            "Epoch 25/50\n",
            "11/11 [==============================] - 0s 5ms/step - loss: 0.0186 - mae: 0.1066 - val_loss: 0.0172 - val_mae: 0.1096\n",
            "Epoch 26/50\n",
            "11/11 [==============================] - 0s 5ms/step - loss: 0.0186 - mae: 0.1085 - val_loss: 0.0171 - val_mae: 0.1093\n",
            "Epoch 27/50\n",
            "11/11 [==============================] - 0s 5ms/step - loss: 0.0180 - mae: 0.1053 - val_loss: 0.0171 - val_mae: 0.1091\n",
            "Epoch 28/50\n",
            "11/11 [==============================] - 0s 5ms/step - loss: 0.0166 - mae: 0.1011 - val_loss: 0.0170 - val_mae: 0.1088\n",
            "Epoch 29/50\n",
            "11/11 [==============================] - 0s 5ms/step - loss: 0.0181 - mae: 0.1048 - val_loss: 0.0170 - val_mae: 0.1085\n",
            "Epoch 30/50\n",
            "11/11 [==============================] - 0s 5ms/step - loss: 0.0178 - mae: 0.1052 - val_loss: 0.0169 - val_mae: 0.1082\n",
            "Epoch 31/50\n",
            "11/11 [==============================] - 0s 5ms/step - loss: 0.0189 - mae: 0.1082 - val_loss: 0.0168 - val_mae: 0.1080\n",
            "Epoch 32/50\n",
            "11/11 [==============================] - 0s 5ms/step - loss: 0.0173 - mae: 0.1032 - val_loss: 0.0168 - val_mae: 0.1077\n",
            "Epoch 33/50\n",
            "11/11 [==============================] - 0s 5ms/step - loss: 0.0172 - mae: 0.1022 - val_loss: 0.0167 - val_mae: 0.1075\n",
            "Epoch 34/50\n",
            "11/11 [==============================] - 0s 5ms/step - loss: 0.0177 - mae: 0.1038 - val_loss: 0.0167 - val_mae: 0.1073\n",
            "Epoch 35/50\n",
            "11/11 [==============================] - 0s 4ms/step - loss: 0.0157 - mae: 0.0980 - val_loss: 0.0166 - val_mae: 0.1070\n",
            "Epoch 36/50\n",
            "11/11 [==============================] - 0s 4ms/step - loss: 0.0169 - mae: 0.1030 - val_loss: 0.0165 - val_mae: 0.1068\n",
            "Epoch 37/50\n",
            "11/11 [==============================] - 0s 4ms/step - loss: 0.0175 - mae: 0.1047 - val_loss: 0.0165 - val_mae: 0.1066\n",
            "Epoch 38/50\n",
            "11/11 [==============================] - 0s 5ms/step - loss: 0.0156 - mae: 0.0980 - val_loss: 0.0164 - val_mae: 0.1064\n",
            "Epoch 39/50\n",
            "11/11 [==============================] - 0s 4ms/step - loss: 0.0174 - mae: 0.1039 - val_loss: 0.0164 - val_mae: 0.1062\n",
            "Epoch 40/50\n",
            "11/11 [==============================] - 0s 4ms/step - loss: 0.0165 - mae: 0.1000 - val_loss: 0.0163 - val_mae: 0.1059\n",
            "Epoch 41/50\n",
            "11/11 [==============================] - 0s 5ms/step - loss: 0.0167 - mae: 0.1014 - val_loss: 0.0162 - val_mae: 0.1056\n",
            "Epoch 42/50\n",
            "11/11 [==============================] - 0s 5ms/step - loss: 0.0162 - mae: 0.0993 - val_loss: 0.0161 - val_mae: 0.1054\n",
            "Epoch 43/50\n",
            "11/11 [==============================] - 0s 5ms/step - loss: 0.0167 - mae: 0.1014 - val_loss: 0.0161 - val_mae: 0.1051\n",
            "Epoch 44/50\n",
            "11/11 [==============================] - 0s 5ms/step - loss: 0.0171 - mae: 0.1031 - val_loss: 0.0160 - val_mae: 0.1049\n",
            "Epoch 45/50\n",
            "11/11 [==============================] - 0s 5ms/step - loss: 0.0168 - mae: 0.1035 - val_loss: 0.0160 - val_mae: 0.1047\n",
            "Epoch 46/50\n",
            "11/11 [==============================] - 0s 5ms/step - loss: 0.0183 - mae: 0.1075 - val_loss: 0.0159 - val_mae: 0.1045\n",
            "Epoch 47/50\n",
            "11/11 [==============================] - 0s 5ms/step - loss: 0.0166 - mae: 0.1001 - val_loss: 0.0158 - val_mae: 0.1042\n",
            "Epoch 48/50\n",
            "11/11 [==============================] - 0s 5ms/step - loss: 0.0175 - mae: 0.1038 - val_loss: 0.0158 - val_mae: 0.1040\n",
            "Epoch 49/50\n",
            "11/11 [==============================] - 0s 5ms/step - loss: 0.0160 - mae: 0.0988 - val_loss: 0.0157 - val_mae: 0.1037\n",
            "Epoch 50/50\n",
            "11/11 [==============================] - 0s 5ms/step - loss: 0.0169 - mae: 0.1020 - val_loss: 0.0157 - val_mae: 0.1035\n"
          ],
          "name": "stdout"
        }
      ]
    },
    {
      "cell_type": "code",
      "metadata": {
        "colab": {
          "base_uri": "https://localhost:8080/"
        },
        "id": "cPlpkoEzGtCT",
        "outputId": "503f6046-326b-462f-e80c-3c4b1bddea7a"
      },
      "source": [
        "model.summary()"
      ],
      "execution_count": 42,
      "outputs": [
        {
          "output_type": "stream",
          "text": [
            "Model: \"sequential_3\"\n",
            "_________________________________________________________________\n",
            "Layer (type)                 Output Shape              Param #   \n",
            "=================================================================\n",
            "dense_11 (Dense)             (None, 12)                120       \n",
            "_________________________________________________________________\n",
            "dense_12 (Dense)             (None, 8)                 104       \n",
            "_________________________________________________________________\n",
            "dense_13 (Dense)             (None, 4)                 36        \n",
            "_________________________________________________________________\n",
            "dense_14 (Dense)             (None, 1)                 5         \n",
            "=================================================================\n",
            "Total params: 265\n",
            "Trainable params: 265\n",
            "Non-trainable params: 0\n",
            "_________________________________________________________________\n"
          ],
          "name": "stdout"
        }
      ]
    },
    {
      "cell_type": "code",
      "metadata": {
        "colab": {
          "base_uri": "https://localhost:8080/",
          "height": 592
        },
        "id": "UsTqHpYiIGZ4",
        "outputId": "f4546cd6-8739-45f1-8095-2717af1302ca"
      },
      "source": [
        "# plotting Training and Validation Loss and MAE\n",
        "mae = history.history['mae']\n",
        "validation_mae = history.history['val_mae']\n",
        "epochs = range(len(mae))\n",
        "\n",
        "plt.figure(figsize=(15,10))\n",
        "plt.plot(epochs, mae , label=['Training MAE'])\n",
        "plt.plot(epochs, validation_mae , label=['Validation MAE'])\n",
        "plt.legend()\n",
        "plt.savefig('mae.jpg')\n",
        "plt.show()"
      ],
      "execution_count": 43,
      "outputs": [
        {
          "output_type": "display_data",
          "data": {
            "image/png": "[encoded data removed]",
            "text/plain": [
              "<Figure size 1080x720 with 1 Axes>"
            ]
          },
          "metadata": {
            "tags": [],
            "needs_background": "light"
          }
        }
      ]
    },
    {
      "cell_type": "code",
      "metadata": {
        "colab": {
          "base_uri": "https://localhost:8080/",
          "height": 595
        },
        "id": "6ECrC_f1IVDO",
        "outputId": "2f2f9bc3-6640-468e-f2b6-e3e8d3b31a5d"
      },
      "source": [
        "loss = history.history['loss']\n",
        "validation_loss = history.history['val_loss']\n",
        "epochs = range(len(mae))\n",
        "\n",
        "\n",
        "plt.figure(figsize=(15,10))\n",
        "plt.plot(epochs, loss , label=['Training Loss'])\n",
        "plt.plot(epochs, validation_loss , label=['Validation Loss'])\n",
        "plt.legend()\n",
        "plt.savefig('loss.jpg')\n",
        "plt.show()"
      ],
      "execution_count": 44,
      "outputs": [
        {
          "output_type": "display_data",
          "data": {
            "image/png": "[encoded data removed]",
            "text/plain": [
              "<Figure size 1080x720 with 1 Axes>"
            ]
          },
          "metadata": {
            "tags": [],
            "needs_background": "light"
          }
        }
      ]
    },
    {
      "cell_type": "code",
      "metadata": {
        "colab": {
          "base_uri": "https://localhost:8080/"
        },
        "id": "TFlvhgSRIcEK",
        "outputId": "6f391483-cf6f-4919-e998-1aea71668cfc"
      },
      "source": [
        "model.predict(validation_dataset).mean()"
      ],
      "execution_count": 48,
      "outputs": [
        {
          "output_type": "execute_result",
          "data": {
            "text/plain": [
              "0.72587174"
            ]
          },
          "metadata": {
            "tags": []
          },
          "execution_count": 48
        }
      ]
    },
    {
      "cell_type": "code",
      "metadata": {
        "id": "UkVMYck6IjjA"
      },
      "source": [
        ""
      ],
      "execution_count": null,
      "outputs": []
    }
  ]
}